{
 "nbformat": 4,
 "nbformat_minor": 2,
 "metadata": {
  "language_info": {
   "name": "python",
   "codemirror_mode": {
    "name": "ipython",
    "version": 3
   },
   "version": "3.7.6-final"
  },
  "orig_nbformat": 2,
  "file_extension": ".py",
  "mimetype": "text/x-python",
  "name": "python",
  "npconvert_exporter": "python",
  "pygments_lexer": "ipython3",
  "version": 3,
  "kernelspec": {
   "name": "python37664bityeeconda55372f8f747c4a26b45df0a51e7e263d",
   "language": "python",
   "display_name": "Python 3.7.6 64-bit ('yee': conda)"
  },
  "pycharm": {
   "stem_cell": {
    "cell_type": "raw",
    "source": [],
    "metadata": {
     "collapsed": false
    }
   }
  }
 },
 "cells": [
  {
   "cell_type": "code",
   "execution_count": 1,
   "outputs": [],
   "source": [
    "import tensorflow as tf\n",
    "import numpy as np\n",
    "import matplotlib.pyplot as plt\n",
    "from tensorflow.keras.layers import Dense,Flatten\n",
    "from tensorflow.keras.models import Model \n",
    "from tensorflow.keras.optimizers import Adam,SGD"
   ],
   "metadata": {
    "collapsed": false,
    "pycharm": {
     "name": "#%%\n",
     "is_executing": false
    }
   }
  },
  {
   "cell_type": "code",
   "execution_count": null,
   "outputs": [],
   "source": [
    "from tensorflow.keras.applications import VGG16\n",
    "\n",
    "vgg = VGG16(input_shape = [100 , 100 ,3] , include_top = False , weights = 'imagenet')"
   ],
   "metadata": {
    "collapsed": false,
    "pycharm": {
     "name": "#%%\n"
    }
   }
  },
  {
   "cell_type": "code",
   "execution_count": null,
   "outputs": [],
   "source": [
    "x = Flatten()(vgg.output)\n",
    "x = Dense(4 ,activation='sigmoid')(x)\n",
    "model = Model(vgg.input, x)"
   ],
   "metadata": {
    "collapsed": false,
    "pycharm": {
     "name": "#%%\n"
    }
   }
  },
  {
   "cell_type": "code",
   "execution_count": null,
   "outputs": [],
   "source": [
    "def image_generator(batch_size = 64) :\n",
    "\n",
    "    while True :\n",
    "\n",
    "        for _ in range(100) :\n",
    "            X = np.zeros((batch_size,100,100,3)) #(64,100,100,3)\n",
    "            Y = np.zeros((batch_size,4))\n",
    "\n",
    "            for i in range(batch_size) :\n",
    "                row0 = np.random.randint(90)\n",
    "                col0 = np.random.randint(90)\n",
    "                row1 = np.random.randint(row0,100)\n",
    "                col1 = np.random.randint(col0,100)\n",
    "\n",
    "                X[i, row0:row1 , col0:col1 , : ] = 1\n",
    "\n",
    "                Y[i,0] = row0/100\n",
    "                Y[i,1] = col0/100\n",
    "                Y[i,2] = (row1-row0)/100\n",
    "                Y[i,3] = (col1-col0)/100\n",
    "                \n",
    "            yield X,Y"
   ],
   "metadata": {
    "collapsed": false,
    "pycharm": {
     "name": "#%%\n"
    }
   }
  },
  {
   "cell_type": "code",
   "execution_count": null,
   "outputs": [],
   "source": [
    "https://github.com/lLoLii\n",
    "model.compile(loss = 'binary_crossentropy' , optimizer= Adam(lr=0.001))"
   ],
   "metadata": {
    "collapsed": false,
    "pycharm": {
     "name": "#%%\n"
    }
   }
  },
  {
   "cell_type": "code",
   "execution_count": null,
   "outputs": [],
   "source": [
    "model.fit_generator(\n",
    "    image_generator(),\n",
    "    steps_per_epoch=50,\n",
    "    epochs=20\n",
    ")"
   ],
   "metadata": {
    "collapsed": false,
    "pycharm": {
     "name": "#%%\n"
    }
   }
  },
  {
   "cell_type": "code",
   "execution_count": null,
   "outputs": [],
   "source": [
    "from matplotlib.patches import Rectangle\n",
    "\n",
    "def make_pred():\n",
    "    #Generate Image\n",
    "    x = np.zeros((100,100,3))\n",
    "    row0 = np.random.randint(90)\n",
    "    col0 = np.random.randint(90)\n",
    "    row1 = np.random.randint(row0,100)\n",
    "    col1 = np.random.randint(col0,100)\n",
    "    x[row0:row1 , col0:col1, :] = 1\n",
    "    print(row0,col0,row1,col1)\n",
    "\n",
    "    X = np.expand_dims(x, 0)\n",
    "    p = model.predict(X)[0]\n",
    "\n",
    "    #Draw box\n",
    "    fig, ax = plt.subplots(1)\n",
    "    ax.imshow(x)\n",
    "    rect=Rectangle(\n",
    "        xy = (p[1]*100,p[0]*100),\n",
    "        width = p[3]*100,\n",
    "        height = p[2]*100 ,\n",
    "        linewidth = 1.3 ,\n",
    "        edgecolor = 'r',\n",
    "        facecolor = 'none'\n",
    "    )\n",
    "\n",
    "    ax.add_patch(rect)\n",
    "    plt.show()"
   ],
   "metadata": {
    "collapsed": false,
    "pycharm": {
     "name": "#%%\n"
    }
   }
  },
  {
   "cell_type": "code",
   "execution_count": null,
   "outputs": [],
   "source": [
    "make_pred()"
   ],
   "metadata": {
    "collapsed": false,
    "pycharm": {
     "name": "#%%\n"
    }
   }
  },
  {
   "cell_type": "code",
   "execution_count": null,
   "outputs": [],
   "source": [],
   "metadata": {
    "collapsed": false,
    "pycharm": {
     "name": "#%%\n"
    }
   }
  }
 ]
}